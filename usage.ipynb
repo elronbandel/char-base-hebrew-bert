{
 "cells": [
  {
   "cell_type": "code",
   "execution_count": 1,
   "id": "solid-highlight",
   "metadata": {},
   "outputs": [],
   "source": [
    "from transformers import pipeline\n",
    "from transformers.tokenization_utils import TruncationStrategy"
   ]
  },
  {
   "cell_type": "code",
   "execution_count": 2,
   "id": "oriental-bikini",
   "metadata": {},
   "outputs": [],
   "source": [
    "from IPython.core.display import display, HTML\n",
    "def print_hebrew(text):\n",
    "    display(HTML('<p dir=\"rtl\">{}</p>'.format(text)))"
   ]
  },
  {
   "cell_type": "code",
   "execution_count": 3,
   "id": "returning-details",
   "metadata": {},
   "outputs": [],
   "source": [
    "MODEL_PATH = './model'"
   ]
  },
  {
   "cell_type": "code",
   "execution_count": 4,
   "id": "mechanical-prospect",
   "metadata": {},
   "outputs": [],
   "source": [
    "# HF unmasking pipe does not allow to mask subwords. this is a simple solution:\n",
    "pipe = pipeline('fill-mask', MODEL_PATH)\n",
    "def do_tokenize(inputs):\n",
    "    return pipe.tokenizer(\n",
    "            inputs,\n",
    "            add_special_tokens=True,\n",
    "            return_tensors=pipe.framework,\n",
    "            padding=True,\n",
    "            truncation=TruncationStrategy.DO_NOT_TRUNCATE,\n",
    "        )\n",
    "\n",
    "def _parse_and_tokenize(\n",
    "    inputs, tokenized=False, **kwargs\n",
    "):\n",
    "    if not tokenized:\n",
    "        inputs = do_tokenize(inputs)\n",
    "    return inputs\n",
    "\n",
    "pipe._parse_and_tokenize = _parse_and_tokenize\n",
    "\n",
    "def unmask(query, top_k=5):\n",
    "    nonspaces = query.replace(' ','')\n",
    "    mask_idx = nonspaces.find('[MASK]')\n",
    "    without_mask = query.replace('[MASK]', 'א') #replace with random char that will be replaced carfully with mask\n",
    "    tokenized = do_tokenize(without_mask)\n",
    "    tokenized['input_ids'][0][mask_idx + 1] = pipe.tokenizer.mask_token_id\n",
    "    return pipe(tokenized, tokenized=True, top_k=top_k)\n",
    "    "
   ]
  },
  {
   "cell_type": "code",
   "execution_count": 5,
   "id": "freelance-milton",
   "metadata": {},
   "outputs": [],
   "source": [
    "input_masked = 'שלום ע[MASK]לם'"
   ]
  },
  {
   "cell_type": "code",
   "execution_count": 6,
   "id": "subjective-beach",
   "metadata": {},
   "outputs": [
    {
     "data": {
      "text/html": [
       "<p dir=\"rtl\">שלום ע[MASK]לם</p>"
      ],
      "text/plain": [
       "<IPython.core.display.HTML object>"
      ]
     },
     "metadata": {},
     "output_type": "display_data"
    }
   ],
   "source": [
    "print_hebrew(input_masked)"
   ]
  },
  {
   "cell_type": "code",
   "execution_count": 7,
   "id": "muslim-stocks",
   "metadata": {},
   "outputs": [
    {
     "data": {
      "text/plain": [
       "[{'sequence': 'שלום עולם',\n",
       "  'score': 0.22049811482429504,\n",
       "  'token': 518,\n",
       "  'token_str': '##ו'},\n",
       " {'sequence': 'שלום עללם',\n",
       "  'score': 0.08309558033943176,\n",
       "  'token': 544,\n",
       "  'token_str': '##ל'},\n",
       " {'sequence': 'שלום ע טלם',\n",
       "  'score': 0.06925750523805618,\n",
       "  'token': 296,\n",
       "  'token_str': 'ט'},\n",
       " {'sequence': 'שלום עילם',\n",
       "  'score': 0.03762314096093178,\n",
       "  'token': 522,\n",
       "  'token_str': '##י'},\n",
       " {'sequence': 'שלום ע זלם',\n",
       "  'score': 0.03247128427028656,\n",
       "  'token': 294,\n",
       "  'token_str': 'ז'}]"
      ]
     },
     "execution_count": 7,
     "metadata": {},
     "output_type": "execute_result"
    }
   ],
   "source": [
    "unmask(input_masked)"
   ]
  }
 ],
 "metadata": {
  "kernelspec": {
   "display_name": "Python [conda env:charformer]",
   "language": "python",
   "name": "conda-env-charformer-py"
  },
  "language_info": {
   "codemirror_mode": {
    "name": "ipython",
    "version": 3
   },
   "file_extension": ".py",
   "mimetype": "text/x-python",
   "name": "python",
   "nbconvert_exporter": "python",
   "pygments_lexer": "ipython3",
   "version": "3.8.5"
  }
 },
 "nbformat": 4,
 "nbformat_minor": 5
}
